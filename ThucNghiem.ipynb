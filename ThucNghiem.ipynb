{
  "nbformat": 4,
  "nbformat_minor": 0,
  "metadata": {
    "colab": {
      "name": "ThucNghiem.ipynb",
      "provenance": []
    },
    "kernelspec": {
      "name": "python3",
      "display_name": "Python 3"
    },
    "language_info": {
      "name": "python"
    },
    "accelerator": "GPU"
  },
  "cells": [
    {
      "cell_type": "code",
      "metadata": {
        "id": "Yk3XpT60Nxlt"
      },
      "source": [
        "import pandas as pd\n",
        "import numpy as np\n"
      ],
      "execution_count": null,
      "outputs": []
    },
    {
      "cell_type": "code",
      "metadata": {
        "id": "gwM68rNVN9FO"
      },
      "source": [
        "dataset = pd.read_csv(\"/content/Islander_data.csv\")"
      ],
      "execution_count": null,
      "outputs": []
    },
    {
      "cell_type": "code",
      "metadata": {
        "id": "HDJrkfCJOCgF",
        "colab": {
          "base_uri": "https://localhost:8080/",
          "height": 203
        },
        "outputId": "4a3e4059-8437-4c18-9e8f-b34f93827b13"
      },
      "source": [
        "dataset.head()"
      ],
      "execution_count": 5,
      "outputs": [
        {
          "output_type": "execute_result",
          "data": {
            "text/html": [
              "<div>\n",
              "<style scoped>\n",
              "    .dataframe tbody tr th:only-of-type {\n",
              "        vertical-align: middle;\n",
              "    }\n",
              "\n",
              "    .dataframe tbody tr th {\n",
              "        vertical-align: top;\n",
              "    }\n",
              "\n",
              "    .dataframe thead th {\n",
              "        text-align: right;\n",
              "    }\n",
              "</style>\n",
              "<table border=\"1\" class=\"dataframe\">\n",
              "  <thead>\n",
              "    <tr style=\"text-align: right;\">\n",
              "      <th></th>\n",
              "      <th>first_name</th>\n",
              "      <th>last_name</th>\n",
              "      <th>age</th>\n",
              "      <th>Happy_Sad_group</th>\n",
              "      <th>Dosage</th>\n",
              "      <th>Drug</th>\n",
              "      <th>Mem_Score_Before</th>\n",
              "      <th>Mem_Score_After</th>\n",
              "      <th>Diff</th>\n",
              "    </tr>\n",
              "  </thead>\n",
              "  <tbody>\n",
              "    <tr>\n",
              "      <th>0</th>\n",
              "      <td>Bastian</td>\n",
              "      <td>Carrasco</td>\n",
              "      <td>25</td>\n",
              "      <td>H</td>\n",
              "      <td>1</td>\n",
              "      <td>A</td>\n",
              "      <td>63.5</td>\n",
              "      <td>61.2</td>\n",
              "      <td>-2.3</td>\n",
              "    </tr>\n",
              "    <tr>\n",
              "      <th>1</th>\n",
              "      <td>Evan</td>\n",
              "      <td>Carrasco</td>\n",
              "      <td>52</td>\n",
              "      <td>S</td>\n",
              "      <td>1</td>\n",
              "      <td>A</td>\n",
              "      <td>41.6</td>\n",
              "      <td>40.7</td>\n",
              "      <td>-0.9</td>\n",
              "    </tr>\n",
              "    <tr>\n",
              "      <th>2</th>\n",
              "      <td>Florencia</td>\n",
              "      <td>Carrasco</td>\n",
              "      <td>29</td>\n",
              "      <td>H</td>\n",
              "      <td>1</td>\n",
              "      <td>A</td>\n",
              "      <td>59.7</td>\n",
              "      <td>55.1</td>\n",
              "      <td>-4.6</td>\n",
              "    </tr>\n",
              "    <tr>\n",
              "      <th>3</th>\n",
              "      <td>Holly</td>\n",
              "      <td>Carrasco</td>\n",
              "      <td>50</td>\n",
              "      <td>S</td>\n",
              "      <td>1</td>\n",
              "      <td>A</td>\n",
              "      <td>51.7</td>\n",
              "      <td>51.2</td>\n",
              "      <td>-0.5</td>\n",
              "    </tr>\n",
              "    <tr>\n",
              "      <th>4</th>\n",
              "      <td>Justin</td>\n",
              "      <td>Carrasco</td>\n",
              "      <td>52</td>\n",
              "      <td>H</td>\n",
              "      <td>1</td>\n",
              "      <td>A</td>\n",
              "      <td>47.0</td>\n",
              "      <td>47.1</td>\n",
              "      <td>0.1</td>\n",
              "    </tr>\n",
              "  </tbody>\n",
              "</table>\n",
              "</div>"
            ],
            "text/plain": [
              "  first_name last_name  age  ... Mem_Score_Before  Mem_Score_After Diff\n",
              "0    Bastian  Carrasco   25  ...             63.5             61.2 -2.3\n",
              "1       Evan  Carrasco   52  ...             41.6             40.7 -0.9\n",
              "2  Florencia  Carrasco   29  ...             59.7             55.1 -4.6\n",
              "3      Holly  Carrasco   50  ...             51.7             51.2 -0.5\n",
              "4     Justin  Carrasco   52  ...             47.0             47.1  0.1\n",
              "\n",
              "[5 rows x 9 columns]"
            ]
          },
          "metadata": {
            "tags": []
          },
          "execution_count": 5
        }
      ]
    },
    {
      "cell_type": "code",
      "metadata": {
        "id": "TQOvQkdSOGiv",
        "colab": {
          "base_uri": "https://localhost:8080/"
        },
        "outputId": "a81ed31c-179d-466a-fdf9-6c743e6ca97d"
      },
      "source": [
        "dataset.apply(lambda x: sum (x.isnull ()), axis = 0) "
      ],
      "execution_count": 4,
      "outputs": [
        {
          "output_type": "execute_result",
          "data": {
            "text/plain": [
              "first_name          0\n",
              "last_name           0\n",
              "age                 0\n",
              "Happy_Sad_group     0\n",
              "Dosage              0\n",
              "Drug                0\n",
              "Mem_Score_Before    0\n",
              "Mem_Score_After     0\n",
              "Diff                0\n",
              "dtype: int64"
            ]
          },
          "metadata": {
            "tags": []
          },
          "execution_count": 4
        }
      ]
    },
    {
      "cell_type": "code",
      "metadata": {
        "colab": {
          "base_uri": "https://localhost:8080/",
          "height": 295
        },
        "id": "r8TjTXSOOUIw",
        "outputId": "f9beb507-32bd-4e51-d5ff-3bff5ed3c57d"
      },
      "source": [
        "dataset.describe()"
      ],
      "execution_count": 6,
      "outputs": [
        {
          "output_type": "execute_result",
          "data": {
            "text/html": [
              "<div>\n",
              "<style scoped>\n",
              "    .dataframe tbody tr th:only-of-type {\n",
              "        vertical-align: middle;\n",
              "    }\n",
              "\n",
              "    .dataframe tbody tr th {\n",
              "        vertical-align: top;\n",
              "    }\n",
              "\n",
              "    .dataframe thead th {\n",
              "        text-align: right;\n",
              "    }\n",
              "</style>\n",
              "<table border=\"1\" class=\"dataframe\">\n",
              "  <thead>\n",
              "    <tr style=\"text-align: right;\">\n",
              "      <th></th>\n",
              "      <th>age</th>\n",
              "      <th>Dosage</th>\n",
              "      <th>Mem_Score_Before</th>\n",
              "      <th>Mem_Score_After</th>\n",
              "      <th>Diff</th>\n",
              "    </tr>\n",
              "  </thead>\n",
              "  <tbody>\n",
              "    <tr>\n",
              "      <th>count</th>\n",
              "      <td>198.000000</td>\n",
              "      <td>198.000000</td>\n",
              "      <td>198.000000</td>\n",
              "      <td>198.000000</td>\n",
              "      <td>198.000000</td>\n",
              "    </tr>\n",
              "    <tr>\n",
              "      <th>mean</th>\n",
              "      <td>39.530303</td>\n",
              "      <td>1.989899</td>\n",
              "      <td>57.967677</td>\n",
              "      <td>60.922222</td>\n",
              "      <td>2.954545</td>\n",
              "    </tr>\n",
              "    <tr>\n",
              "      <th>std</th>\n",
              "      <td>12.023099</td>\n",
              "      <td>0.818504</td>\n",
              "      <td>15.766007</td>\n",
              "      <td>18.133851</td>\n",
              "      <td>10.754603</td>\n",
              "    </tr>\n",
              "    <tr>\n",
              "      <th>min</th>\n",
              "      <td>24.000000</td>\n",
              "      <td>1.000000</td>\n",
              "      <td>27.200000</td>\n",
              "      <td>27.100000</td>\n",
              "      <td>-40.400000</td>\n",
              "    </tr>\n",
              "    <tr>\n",
              "      <th>25%</th>\n",
              "      <td>30.000000</td>\n",
              "      <td>1.000000</td>\n",
              "      <td>46.525000</td>\n",
              "      <td>47.175000</td>\n",
              "      <td>-3.175000</td>\n",
              "    </tr>\n",
              "    <tr>\n",
              "      <th>50%</th>\n",
              "      <td>37.000000</td>\n",
              "      <td>2.000000</td>\n",
              "      <td>54.800000</td>\n",
              "      <td>56.750000</td>\n",
              "      <td>1.700000</td>\n",
              "    </tr>\n",
              "    <tr>\n",
              "      <th>75%</th>\n",
              "      <td>48.000000</td>\n",
              "      <td>3.000000</td>\n",
              "      <td>68.400000</td>\n",
              "      <td>73.250000</td>\n",
              "      <td>5.925000</td>\n",
              "    </tr>\n",
              "    <tr>\n",
              "      <th>max</th>\n",
              "      <td>83.000000</td>\n",
              "      <td>3.000000</td>\n",
              "      <td>110.000000</td>\n",
              "      <td>120.000000</td>\n",
              "      <td>49.000000</td>\n",
              "    </tr>\n",
              "  </tbody>\n",
              "</table>\n",
              "</div>"
            ],
            "text/plain": [
              "              age      Dosage  Mem_Score_Before  Mem_Score_After        Diff\n",
              "count  198.000000  198.000000        198.000000       198.000000  198.000000\n",
              "mean    39.530303    1.989899         57.967677        60.922222    2.954545\n",
              "std     12.023099    0.818504         15.766007        18.133851   10.754603\n",
              "min     24.000000    1.000000         27.200000        27.100000  -40.400000\n",
              "25%     30.000000    1.000000         46.525000        47.175000   -3.175000\n",
              "50%     37.000000    2.000000         54.800000        56.750000    1.700000\n",
              "75%     48.000000    3.000000         68.400000        73.250000    5.925000\n",
              "max     83.000000    3.000000        110.000000       120.000000   49.000000"
            ]
          },
          "metadata": {
            "tags": []
          },
          "execution_count": 6
        }
      ]
    },
    {
      "cell_type": "code",
      "metadata": {
        "id": "MPEq6qpXOnk2"
      },
      "source": [
        ""
      ],
      "execution_count": null,
      "outputs": []
    }
  ]
}